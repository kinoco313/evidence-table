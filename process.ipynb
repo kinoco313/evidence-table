{
 "cells": [
  {
   "cell_type": "markdown",
   "metadata": {},
   "source": [
    "### 使用ライブラリ"
   ]
  },
  {
   "cell_type": "code",
   "execution_count": 30,
   "metadata": {},
   "outputs": [],
   "source": [
    "import requests\n",
    "import xml.etree.ElementTree as ET\n",
    "import pandas as pd"
   ]
  },
  {
   "cell_type": "markdown",
   "metadata": {},
   "source": [
    "### 定数一覧\n",
    "- esearch_url\n",
    "    - PMIDを取得する際に使用する\n",
    "- efetch_url\n",
    "    - 論文の詳細情報を取得する際に使用する"
   ]
  },
  {
   "cell_type": "code",
   "execution_count": 38,
   "metadata": {},
   "outputs": [],
   "source": [
    "# 以下のurlをベースに、後でdb・termパラメータを設定する\n",
    "db = \"pubmed\"\n",
    "esearch_url = \"https://eutils.ncbi.nlm.nih.gov/entrez/eutils/esearch.fcgi\"\n",
    "efetch_url = \"https://eutils.ncbi.nlm.nih.gov/entrez/eutils/efetch.fcgi\"\n",
    "searching_words = \"\"\"\n",
    "(New England Journal of Medicine[Journal] OR BMJ[Journal] OR The Lancet[Journal] OR JAMA[Journal] OR Annals of Internal Medicine[Journal] OR Kidney International[Journal] OR Journal of the American Society of Nephrology[Journal] OR American Journal of Kidney Diseases[Journal] OR Clinical Journal of the American Society of Nephrology[Journal] OR Nephrology Dialysis Transplantation[Journal])\n",
    "AND (glomerular hyperfiltration) AND (cardiovascular disease)\n",
    "\"\"\"\n",
    "retmax = 100  # 最大10000\n",
    "retmode = \"xml\"\n",
    "\n",
    "columns = [\"PMID\", \"Title\", \"Journal\", \"PubYear\", \"Abstract\"]"
   ]
  },
  {
   "cell_type": "code",
   "execution_count": 25,
   "metadata": {},
   "outputs": [],
   "source": [
    "def make_request_url(base_url: str, params: dict[str, str | int]) -> str:\n",
    "    base_url += \"?\"\n",
    "    for k, v in params.items():\n",
    "        base_url += f\"{k}={v}&\"\n",
    "    # 最後の余分な \"&\" を除く\n",
    "    url = base_url[: len(base_url) - 1]\n",
    "    return url"
   ]
  },
  {
   "cell_type": "code",
   "execution_count": 21,
   "metadata": {},
   "outputs": [],
   "source": [
    "def fetch_xml(base_url: str, params: dict[str, str | int]) -> ET.Element:\n",
    "    res = requests.get(make_request_url(base_url, params))\n",
    "    return ET.fromstring(res.text)"
   ]
  },
  {
   "cell_type": "code",
   "execution_count": 31,
   "metadata": {},
   "outputs": [],
   "source": [
    "def extract_pmids(base_url: str, params: dict[str, str | int]) -> list[str]:\n",
    "    root = fetch_xml(base_url, params)\n",
    "    # pmidのリスト\n",
    "    pmids = [pmid.text for pmid in res_xml.findall(\".//Id\")]\n",
    "    print(f\"{len(pmids)}件のPubMedIDを取得\")\n",
    "    return pmids"
   ]
  },
  {
   "cell_type": "markdown",
   "metadata": {},
   "source": [
    "PMIDのリストを取得"
   ]
  },
  {
   "cell_type": "code",
   "execution_count": 29,
   "metadata": {},
   "outputs": [
    {
     "name": "stdout",
     "output_type": "stream",
     "text": [
      "64件のPubMedIDを取得\n"
     ]
    }
   ],
   "source": [
    "esearch_params = {\"db\": db, \"term\": searching_words, \"retmax\": retmax}\n",
    "pmids = extract_pmids(esearch_url, esearch_params)"
   ]
  },
  {
   "cell_type": "code",
   "execution_count": 39,
   "metadata": {},
   "outputs": [],
   "source": [
    "def gen_evid_tbl(base_url: str, params: dict[str, str | int]) -> pd.DataFrame:\n",
    "    root = fetch_xml(base_url, params)\n",
    "    # PMID,論文タイトル,雑誌タイトル,出版年,アブストを辞書のリストとして格納する\n",
    "    articles = []\n",
    "    for article in root.findall(\".//PubmedArticle\"):\n",
    "        pmid = article.findtext(\".//PMID\")\n",
    "        title = article.findtext(\".//ArticleTitle\")\n",
    "        jounal = article.findtext(\".//Journal/Title\")\n",
    "        pub_year = article.findtext(\".//PubDate/Year\")\n",
    "        abstract = \"\".join([abst.text for abst in article.findall(\".//AbstractText\")])\n",
    "        values = [pmid, title, jounal, pub_year, abstract]\n",
    "        dic = {k: v for k, v in zip(columns, values)}\n",
    "        articles.append(dic)\n",
    "    return pd.DataFrame(articles)"
   ]
  },
  {
   "cell_type": "code",
   "execution_count": 40,
   "metadata": {},
   "outputs": [
    {
     "data": {
      "text/html": [
       "<div>\n",
       "<style scoped>\n",
       "    .dataframe tbody tr th:only-of-type {\n",
       "        vertical-align: middle;\n",
       "    }\n",
       "\n",
       "    .dataframe tbody tr th {\n",
       "        vertical-align: top;\n",
       "    }\n",
       "\n",
       "    .dataframe thead th {\n",
       "        text-align: right;\n",
       "    }\n",
       "</style>\n",
       "<table border=\"1\" class=\"dataframe\">\n",
       "  <thead>\n",
       "    <tr style=\"text-align: right;\">\n",
       "      <th></th>\n",
       "      <th>PMID</th>\n",
       "      <th>Title</th>\n",
       "      <th>Journal</th>\n",
       "      <th>PubYear</th>\n",
       "      <th>Abstract</th>\n",
       "    </tr>\n",
       "  </thead>\n",
       "  <tbody>\n",
       "    <tr>\n",
       "      <th>0</th>\n",
       "      <td>38280517</td>\n",
       "      <td>Pediatric kidney dimensions and risk of persis...</td>\n",
       "      <td>Kidney international</td>\n",
       "      <td>2024</td>\n",
       "      <td>In Mexico, chronic kidney disease of unknown o...</td>\n",
       "    </tr>\n",
       "    <tr>\n",
       "      <th>1</th>\n",
       "      <td>35977806</td>\n",
       "      <td>Sex Differences in Age-Related Loss of Kidney ...</td>\n",
       "      <td>Journal of the American Society of Nephrology ...</td>\n",
       "      <td>2022</td>\n",
       "      <td>CKD is more prevalent in women, but more men r...</td>\n",
       "    </tr>\n",
       "    <tr>\n",
       "      <th>2</th>\n",
       "      <td>35351818</td>\n",
       "      <td>Brief Early Life Angiotensin-Converting Enzyme...</td>\n",
       "      <td>Journal of the American Society of Nephrology ...</td>\n",
       "      <td>2022</td>\n",
       "      <td>Children born with a solitary functioning kidn...</td>\n",
       "    </tr>\n",
       "    <tr>\n",
       "      <th>3</th>\n",
       "      <td>31901353</td>\n",
       "      <td>Do sodium-glucose cotransporter-2 inhibitors a...</td>\n",
       "      <td>Kidney international</td>\n",
       "      <td>2020</td>\n",
       "      <td>Cardiovascular and renal outcome trials demons...</td>\n",
       "    </tr>\n",
       "    <tr>\n",
       "      <th>4</th>\n",
       "      <td>30799029</td>\n",
       "      <td>Renal Hemodynamic Function and RAAS Activation...</td>\n",
       "      <td>American journal of kidney diseases : the offi...</td>\n",
       "      <td>2019</td>\n",
       "      <td>The renin-angiotensin-aldosterone system (RAAS...</td>\n",
       "    </tr>\n",
       "  </tbody>\n",
       "</table>\n",
       "</div>"
      ],
      "text/plain": [
       "       PMID                                              Title  \\\n",
       "0  38280517  Pediatric kidney dimensions and risk of persis...   \n",
       "1  35977806  Sex Differences in Age-Related Loss of Kidney ...   \n",
       "2  35351818  Brief Early Life Angiotensin-Converting Enzyme...   \n",
       "3  31901353  Do sodium-glucose cotransporter-2 inhibitors a...   \n",
       "4  30799029  Renal Hemodynamic Function and RAAS Activation...   \n",
       "\n",
       "                                             Journal PubYear  \\\n",
       "0                               Kidney international    2024   \n",
       "1  Journal of the American Society of Nephrology ...    2022   \n",
       "2  Journal of the American Society of Nephrology ...    2022   \n",
       "3                               Kidney international    2020   \n",
       "4  American journal of kidney diseases : the offi...    2019   \n",
       "\n",
       "                                            Abstract  \n",
       "0  In Mexico, chronic kidney disease of unknown o...  \n",
       "1  CKD is more prevalent in women, but more men r...  \n",
       "2  Children born with a solitary functioning kidn...  \n",
       "3  Cardiovascular and renal outcome trials demons...  \n",
       "4  The renin-angiotensin-aldosterone system (RAAS...  "
      ]
     },
     "execution_count": 40,
     "metadata": {},
     "output_type": "execute_result"
    }
   ],
   "source": [
    "pmids_csv = \",\".join(pmids)\n",
    "efetch_params = {\"db\": db, \"id\": pmids_csv, \"retmode\": retmode}\n",
    "evid_tbl = gen_evid_tbl(efetch_url, efetch_params)\n",
    "evid_tbl.head(5)"
   ]
  },
  {
   "cell_type": "code",
   "execution_count": null,
   "metadata": {},
   "outputs": [],
   "source": []
  }
 ],
 "metadata": {
  "kernelspec": {
   "display_name": "Python 3 (ipykernel)",
   "language": "python",
   "name": "python3"
  },
  "language_info": {
   "codemirror_mode": {
    "name": "ipython",
    "version": 3
   },
   "file_extension": ".py",
   "mimetype": "text/x-python",
   "name": "python",
   "nbconvert_exporter": "python",
   "pygments_lexer": "ipython3",
   "version": "3.13.0"
  }
 },
 "nbformat": 4,
 "nbformat_minor": 4
}
