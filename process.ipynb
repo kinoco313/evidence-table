{
 "cells": [
  {
   "cell_type": "markdown",
   "metadata": {},
   "source": [
    "### 使用ライブラリ"
   ]
  },
  {
   "cell_type": "code",
   "execution_count": 15,
   "metadata": {},
   "outputs": [],
   "source": [
    "import requests\n",
    "import xml.etree.ElementTree as ET\n",
    "import pandas as pd\n",
    "from openai import OpenAI\n",
    "import openpyxl"
   ]
  },
  {
   "cell_type": "markdown",
   "metadata": {},
   "source": [
    "### 定数一覧\n",
    "- esearch_url\n",
    "    - PMIDを取得する際に使用する\n",
    "- efetch_url\n",
    "    - 論文の詳細情報を取得する際に使用する"
   ]
  },
  {
   "cell_type": "code",
   "execution_count": 10,
   "metadata": {},
   "outputs": [],
   "source": [
    "# 以下のurlをベースに、後でdb・termパラメータを設定する\n",
    "db = \"pubmed\"\n",
    "esearch_url = \"https://eutils.ncbi.nlm.nih.gov/entrez/eutils/esearch.fcgi\"\n",
    "efetch_url = \"https://eutils.ncbi.nlm.nih.gov/entrez/eutils/efetch.fcgi\"\n",
    "searching_words = \"\"\"\n",
    "(New England Journal of Medicine[Journal] OR BMJ[Journal] OR The Lancet[Journal] OR JAMA[Journal] OR Annals of Internal Medicine[Journal] OR Kidney International[Journal] OR Journal of the American Society of Nephrology[Journal] OR American Journal of Kidney Diseases[Journal] OR Clinical Journal of the American Society of Nephrology[Journal] OR Nephrology Dialysis Transplantation[Journal])\n",
    "AND (glomerular hyperfiltration) AND (cardiovascular disease)\n",
    "\"\"\"\n",
    "retmax = 5  # 最大10000\n",
    "retmode = \"xml\"\n",
    "\n",
    "columns = [\"PMID\", \"Title\", \"Journal\", \"PubYear\", \"Abstract\", \"Translated\"]"
   ]
  },
  {
   "cell_type": "code",
   "execution_count": 3,
   "metadata": {},
   "outputs": [],
   "source": [
    "def make_request_url(base_url: str, params: dict[str, str | int]) -> str:\n",
    "    base_url += \"?\"\n",
    "    for k, v in params.items():\n",
    "        base_url += f\"{k}={v}&\"\n",
    "    # 最後の余分な \"&\" を除く\n",
    "    url = base_url[: len(base_url) - 1]\n",
    "    return url"
   ]
  },
  {
   "cell_type": "code",
   "execution_count": 4,
   "metadata": {},
   "outputs": [],
   "source": [
    "def fetch_xml(base_url: str, params: dict[str, str | int]) -> ET.Element:\n",
    "    res = requests.get(make_request_url(base_url, params))\n",
    "    return ET.fromstring(res.text)"
   ]
  },
  {
   "cell_type": "code",
   "execution_count": 5,
   "metadata": {},
   "outputs": [],
   "source": [
    "def extract_pmids(base_url: str, params: dict[str, str | int]) -> list[str]:\n",
    "    root = fetch_xml(base_url, params)\n",
    "    # pmidのリスト\n",
    "    pmids = [pmid.text for pmid in root.findall(\".//Id\")]\n",
    "    print(f\"{len(pmids)}件のPubMedIDを取得\")\n",
    "    return pmids"
   ]
  },
  {
   "cell_type": "markdown",
   "metadata": {},
   "source": [
    "PMIDのリストを取得"
   ]
  },
  {
   "cell_type": "code",
   "execution_count": 6,
   "metadata": {},
   "outputs": [
    {
     "name": "stdout",
     "output_type": "stream",
     "text": [
      "5件のPubMedIDを取得\n"
     ]
    }
   ],
   "source": [
    "esearch_params = {\"db\": db, \"term\": searching_words, \"retmax\": retmax}\n",
    "pmids = extract_pmids(esearch_url, esearch_params)"
   ]
  },
  {
   "cell_type": "code",
   "execution_count": 11,
   "metadata": {},
   "outputs": [],
   "source": [
    "def gen_evid_tbl(base_url: str, params: dict[str, str | int]) -> pd.DataFrame:\n",
    "    root = fetch_xml(base_url, params)\n",
    "    # API key\n",
    "    with open(\"apikey.txt\", \"r\") as f:\n",
    "        api_key = f.readline()\n",
    "    # PMID,論文タイトル,雑誌タイトル,出版年,アブストを辞書のリストとして格納する\n",
    "    articles = []\n",
    "    for article in root.findall(\".//PubmedArticle\"):\n",
    "        pmid = article.findtext(\".//PMID\")\n",
    "        title = article.findtext(\".//ArticleTitle\")\n",
    "        jounal = article.findtext(\".//Journal/Title\")\n",
    "        pub_year = article.findtext(\".//PubDate/Year\")\n",
    "        abstract = \"\".join([abst.text for abst in article.findall(\".//AbstractText\")])\n",
    "        translated = to_abst_ja(abstract, api_key)\n",
    "        values = [pmid, title, jounal, pub_year, abstract, translated]\n",
    "        dic = {k: v for k, v in zip(columns, values)}\n",
    "        articles.append(dic)\n",
    "    return pd.DataFrame(articles)"
   ]
  },
  {
   "cell_type": "code",
   "execution_count": 8,
   "metadata": {},
   "outputs": [],
   "source": [
    "def to_abst_ja(abst: str, api_key: str) -> str:   \n",
    "    client = OpenAI(api_key=api_key)\n",
    "    prompt = \"\"\"\n",
    "    あなたは{# 役割}です。{# 入力文}を日本語に翻訳してください。\n",
    "\n",
    "    # 役割\n",
    "    英語と日本語が堪能な臨床研究の専門家\n",
    "    \n",
    "    # 入力文\n",
    "    \"\"\"\n",
    "    prompt += abst\n",
    "    \n",
    "\n",
    "    completion = client.chat.completions.create(\n",
    "        model=\"gpt-4o-mini\",\n",
    "        messages=[\n",
    "            {\"role\": \"system\", \"content\": \"You are a helpful assistant.\"},\n",
    "            {\n",
    "                \"role\": \"user\",\n",
    "                \"content\": prompt\n",
    "            }\n",
    "        ]\n",
    "    )\n",
    "    res = completion.choices[0].message.content\n",
    "    return res"
   ]
  },
  {
   "cell_type": "code",
   "execution_count": 12,
   "metadata": {},
   "outputs": [],
   "source": [
    "pmids_csv = \",\".join(pmids)\n",
    "efetch_params = {\"db\": db, \"id\": pmids_csv, \"retmode\": retmode}\n",
    "evid_tbl = gen_evid_tbl(efetch_url, efetch_params)"
   ]
  }
 ],
 "metadata": {
  "kernelspec": {
   "display_name": "Python 3 (ipykernel)",
   "language": "python",
   "name": "python3"
  },
  "language_info": {
   "codemirror_mode": {
    "name": "ipython",
    "version": 3
   },
   "file_extension": ".py",
   "mimetype": "text/x-python",
   "name": "python",
   "nbconvert_exporter": "python",
   "pygments_lexer": "ipython3",
   "version": "3.13.0"
  }
 },
 "nbformat": 4,
 "nbformat_minor": 4
}
