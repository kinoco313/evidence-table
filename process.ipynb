{
 "cells": [
  {
   "cell_type": "markdown",
   "metadata": {},
   "source": [
    "## 使用ライブラリ"
   ]
  },
  {
   "cell_type": "code",
   "execution_count": 1,
   "metadata": {},
   "outputs": [],
   "source": [
    "import requests\n",
    "import xml.etree.ElementTree as ET"
   ]
  },
  {
   "cell_type": "markdown",
   "metadata": {},
   "source": [
    "## 定数一覧"
   ]
  },
  {
   "cell_type": "code",
   "execution_count": 19,
   "metadata": {},
   "outputs": [],
   "source": [
    "# 以下のurlをベースに、後でdb・termパラメータを設定する\n",
    "db = \"pubmed\"\n",
    "base_url = \"https://eutils.ncbi.nlm.nih.gov/entrez/eutils/esearch.fcgi\"\n",
    "searching_words = \"\"\"\n",
    "(New England Journal of Medicine[Journal] OR BMJ[Journal] OR The Lancet[Journal] OR JAMA[Journal] OR Annals of Internal Medicine[Journal] OR Kidney International[Journal] OR Journal of the American Society of Nephrology[Journal] OR American Journal of Kidney Diseases[Journal] OR Clinical Journal of the American Society of Nephrology[Journal] OR Nephrology Dialysis Transplantation[Journal])\n",
    "AND (glomerular hyperfiltration) AND (cardiovascular disease)\n",
    "\"\"\"\n",
    "retmax = 100  # 最大10000\n",
    "\n",
    "params = {\"db\": db, \"term\": searching_words, \"retmax\": retmax}"
   ]
  },
  {
   "cell_type": "code",
   "execution_count": 20,
   "metadata": {},
   "outputs": [],
   "source": [
    "def make_request_url(base_url: str, params: dict[str, str | int]) -> str:\n",
    "    base_url += \"?\"\n",
    "    for k, v in params.items():\n",
    "        base_url += f\"{k}={v}&\"\n",
    "    # 最後の余分な \"&\" を除く\n",
    "    url = base_url[: len(base_url) - 1]\n",
    "    return url"
   ]
  },
  {
   "cell_type": "code",
   "execution_count": 21,
   "metadata": {},
   "outputs": [],
   "source": [
    "def fetch_xml(base_url: str, params: dict[str, str | int]) -> ET.Element:\n",
    "    res = requests.get(make_request_url(base_url, params))\n",
    "    return ET.fromstring(res.text)"
   ]
  },
  {
   "cell_type": "code",
   "execution_count": 22,
   "metadata": {},
   "outputs": [],
   "source": [
    "def extract_pmids(base_url: str, params: dict[str, str | int]) -> list[str]:\n",
    "    res_xml = fetch_xml(base_url, params)\n",
    "    # pmidのリスト\n",
    "    pmids = [pmid.text for pmid in res_xml.findall(\".//Id\")]\n",
    "    print(f\"{len(pmids)}件のPubMedIDを取得\")\n",
    "    return pmids"
   ]
  },
  {
   "cell_type": "code",
   "execution_count": null,
   "metadata": {},
   "outputs": [],
   "source": []
  }
 ],
 "metadata": {
  "kernelspec": {
   "display_name": "Python 3 (ipykernel)",
   "language": "python",
   "name": "python3"
  },
  "language_info": {
   "codemirror_mode": {
    "name": "ipython",
    "version": 3
   },
   "file_extension": ".py",
   "mimetype": "text/x-python",
   "name": "python",
   "nbconvert_exporter": "python",
   "pygments_lexer": "ipython3",
   "version": "3.13.0"
  }
 },
 "nbformat": 4,
 "nbformat_minor": 4
}
